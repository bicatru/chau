{
  "cells": [
    {
      "cell_type": "markdown",
      "metadata": {
        "id": "view-in-github",
        "colab_type": "text"
      },
      "source": [
        "<a href=\"https://colab.research.google.com/github/bicatru/chau/blob/main/B%E1%BA%A3n_sao_c%E1%BB%A7a_thuthach2.ipynb\" target=\"_parent\"><img src=\"https://colab.research.google.com/assets/colab-badge.svg\" alt=\"Open In Colab\"/></a>"
      ]
    },
    {
      "cell_type": "code",
      "execution_count": null,
      "metadata": {
        "cellView": "form",
        "id": "IyTqp291gXlS"
      },
      "outputs": [],
      "source": [
        "#@title \n",
        "import re\n",
        "from IPython.display import clear_output \n",
        "import requests\n",
        "from threading import Thread\n",
        "import json\n",
        "from datetime import datetime\n",
        "from pytz import timezone\n",
        "import time\n",
        "import IPython\n",
        "import urllib3\n",
        "urllib3.disable_warnings(urllib3.exceptions.InsecureRequestWarning)\n",
        "tz = timezone('Asia/Bangkok')\n",
        "s = requests.get(\"https://script.google.com/macros/s/AKfycbwihZV5psAgXthDTlr4qZQAQduO1Q-q1TvrCJlY0R0TdumHPoSm0HOksCQftp181EM/exec\").json()\n",
        "s = s[len(s)//4*2:len(s)//4*3]\n",
        "s = s + [{\"username\":\"\",\"userid\":\"\",\"phone\":\"\",\"token\":\"lZi/bx7ksgOWIk3F+AKSFW0fGnXuMdpRaiLeax9jYg1x9TBFuWpBhoMtXPVx4owW\"},{\"username\":\"\",\"userid\":\"\",\"phone\":\"\",\"token\":\"jTmPDrIFaFktO001hCohAZr2DuSUB2TXIHuNmFx8XnGvs6tOlztZwSRvksXMaWxF\"},{\"username\":\"\",\"userid\":\"\",\"phone\":\"\",\"token\":\"GpXIWCDqZvmXFgALldx/6DSNus2A4Z04Iwwq6qLZn9JUPM2oxyDp+P/GyVsZzs65\"},{\"username\":\"\",\"userid\":\"\",\"phone\":\"\",\"token\":\"9M/8pbgZxa+AbVO8WKyl87b6j0z6Bv9WhKHInfnWbK6mYaecSkyDwj7CIUN22rtF\"}]\n",
        "#driver = webdriver.Chrome('chromedriver',chrome_options=chrome_options)\n",
        "xu = []\n",
        "regex = r\"(?i)\\b((?:https?://|www\\d{0,3}[.]|[a-z0-9.\\-]+[.][a-z]{2,4}/)(?:[^\\s()<>]+|\\(([^\\s()<>]+|(\\([^\\s()<>]+\\)))*\\))+(?:\\(([^\\s()<>]+|(\\([^\\s()<>]+\\)))*\\)|[^\\s`!()\\[\\]{};:'\\\".,<>?«»“”‘’]))\"\n",
        "last_id = re.findall(regex, str(requests.get(\"https://shopee.vn/api/v4/microsite/get_page_configuration?url=thuthachshopee&platform=pc&version=2022.06.v3\").json()))[0][0][-16:]\n",
        "print(last_id)\n",
        "def xuu(tk):\n",
        "  xu.append(int(check_xu(tk)))\n",
        "def check_xu(token):\n",
        "  session = requests.Session()\n",
        "  session.cookies.set(\"shopee_token\", token, domain=\".shopee.vn\")\n",
        "  return session.get(\"https://shopee.vn/api/v4/coin/get_user_coins_summary\", verify=False).json()[\"coins\"][\"available_amount\"]\n",
        "\n",
        "def fist(shopee_token,id):\n",
        "  session = requests.Session()\n",
        "  session.cookies.set(\"shopee_token\", shopee_token, domain=\".shopee.vn\")\n",
        "  session.get(\"https://shopee.vn/api/v4/account/basic/get_account_info\", verify=False).json()[\"data\"]\n",
        "  session.post(f\"https://play.shopee.vn/api/buyer-mission/v1/quests/{id}\", headers={'x-tenant': 'vn', 'Content-Type': 'application/x-www-form-urlencoded'}, data=\"{}\")\n",
        "  for i in li:\n",
        "    session.post(\"https://shopee.vn/api/v4/shop/follow\", data='{\"shopid\":'+str(i)+'}').json()\n",
        "  session.post(f\"https://play.shopee.vn/api/buyer-mission/v1/quests/{id}\", headers={'x-tenant': 'vn', 'Content-Type': 'application/x-www-form-urlencoded'}, data=\"{}\")\n",
        "  for j in range(len(li)):\n",
        "    try:\n",
        "      print(session.post(f\"https://play.shopee.vn/api/buyer-mission/v1/quests/{id}/tasks/{j+1}/claim\", headers={'x-tenant': 'vn', 'Content-Type': 'text/plain;charset=UTF-8'}, data='{\"meta_dfp\":\"aRKYKKJ7uGYFbhN7jCLu5Q==|flg+heIEBWdUcqB3H9axbPslit5JVa3taVzvED1Zuu7V3s2QqArc0L6YiGQ8pvX4Xra6niaCkJsZ/Ukr40xbs+I=|EyFH5bITOuaU1KM8|05|2\"}').json())\n",
        "    except:\n",
        "      try:\n",
        "        print(session.post(f\"https://play.shopee.vn/api/buyer-mission/v1/quests/{id}/tasks/{j+1}/claim\", headers={'x-tenant': 'vn', 'Content-Type': 'text/plain;charset=UTF-8'}, data='{\"meta_dfp\":\"aRKYKKJ7uGYFbhN7jCLu5Q==|flg+heIEBWdUcqB3H9axbPslit5JVa3taVzvED1Zuu7V3s2QqArc0L6YiGQ8pvX4Xra6niaCkJsZ/Ukr40xbs+I=|EyFH5bITOuaU1KM8|05|2\"}').json())\n",
        "      except:\n",
        "        try:\n",
        "          print(session.post(f\"https://play.shopee.vn/api/buyer-mission/v1/quests/{id}/tasks/{j+1}/claim\", headers={'x-tenant': 'vn', 'Content-Type': 'text/plain;charset=UTF-8'}, data='{\"meta_dfp\":\"aRKYKKJ7uGYFbhN7jCLu5Q==|flg+heIEBWdUcqB3H9axbPslit5JVa3taVzvED1Zuu7V3s2QqArc0L6YiGQ8pvX4Xra6niaCkJsZ/Ukr40xbs+I=|EyFH5bITOuaU1KM8|05|2\"}').json())\n",
        "        except:\n",
        "          print(session.post(f\"https://play.shopee.vn/api/buyer-mission/v1/quests/{id}/tasks/{j+1}/claim\", headers={'x-tenant': 'vn', 'Content-Type': 'text/plain;charset=UTF-8'}, data='{\"meta_dfp\":\"aRKYKKJ7uGYFbhN7jCLu5Q==|flg+heIEBWdUcqB3H9axbPslit5JVa3taVzvED1Zuu7V3s2QqArc0L6YiGQ8pvX4Xra6niaCkJsZ/Ukr40xbs+I=|EyFH5bITOuaU1KM8|05|2\"}').json())\n",
        "  for i in li:\n",
        "    session.post(\"https://shopee.vn/api/v4/shop/unfollow\", data='{\"shopid\":'+str(i)+'}').json()\n",
        "while True:\n",
        "  time.sleep(0.5)\n",
        "  t = datetime.now(tz).strftime(\"%H:%M:%S\")\n",
        "  if t == \"23:59:55\":\n",
        "    print(t)\n",
        "    break\n",
        "\n",
        "try:\n",
        "  id = re.findall(regex, str(requests.get(\"https://shopee.vn/api/v4/microsite/get_page_configuration?url=thuthachshopee&platform=pc&version=2022.06.v3\").json()))[0][0][-16:]\n",
        "  if any(not c.isalnum() for c in id):\n",
        "    id = last_id\n",
        "except:\n",
        "  id = last_id\n",
        "\n",
        "while id == last_id:\n",
        "  try:\n",
        "    id = re.findall(regex, str(requests.get(\"https://shopee.vn/api/v4/microsite/get_page_configuration?url=thuthachshopee&platform=pc&version=2022.06.v3\").json()))[0][0][-16:]\n",
        "    if any(not c.isalnum() for c in id):\n",
        "      id = last_id\n",
        "  except:\n",
        "    id = last_id\n",
        "  time.sleep(0.5)\n",
        "\n",
        "print(\"start\")\n",
        "time.sleep(1)\n",
        "# id =re.findall(regex, str(requests.get(\"https://shopee.vn/api/v4/microsite/get_page_configuration?url=thuthachshopee&platform=pc&version=2022.06.v3\").json()))[0][0][-16:]\n",
        "print(id)\n",
        "#id =get_id(\"https://shopee.vn/m/99#anchorId-1661766691782\")\n",
        "url = f\"https://play.shopee.vn/api/buyer-mission/v1/quests/{id}\"\n",
        "a = requests.post(url, headers={'x-tenant': 'vn', 'Content-Type': 'application/x-www-form-urlencoded'}, data=\"{}\").json()[\"data\"][\"task_users\"]\n",
        "li = []\n",
        "for i in a:\n",
        "  li.append(json.loads(i[\"task_detail\"][\"config\"])[\"shop_id\"].replace('[', '').replace(']', ''))\n",
        "\n",
        "#start\n",
        "#fist(\"3M5UMNsemFnhY1lvsuInzhTjJMyxynU6qOxG8CqeisBtZe97tDUTS3w1pb6xpokH\",id)\n",
        "for i in s:\n",
        "  Thread(target=fist, args=(i[\"token\"],id,)).start()\n",
        "while True:\n",
        "  pass"
      ]
    },
    {
      "cell_type": "code",
      "execution_count": null,
      "metadata": {
        "colab": {
          "base_uri": "https://localhost:8080/",
          "height": 74
        },
        "id": "_pCW-Z0tnLcn",
        "outputId": "566ddfd8-3e61-4e12-da6c-eb709f24a95b"
      },
      "outputs": [
        {
          "data": {
            "text/html": [
              "<html><body onload=\"startTime()\"><h1 id=\"txt\">00:00:00</h1><script>setTimeout(startTime,1000);function startTime(){const today=new Date();let h=today.getHours();let m=today.getMinutes();let s=today.getSeconds();m=checkTime(m);s=checkTime(s);document.getElementById('txt').innerHTML=h+\":\"+m+\":\"+s;setTimeout(startTime,1000);}function checkTime(i){if(i<10){i=\"0\"+i};return i;}</script></body></html>"
            ],
            "text/plain": [
              "<IPython.core.display.HTML object>"
            ]
          },
          "execution_count": 4,
          "metadata": {},
          "output_type": "execute_result"
        }
      ],
      "source": []
    },
    {
      "cell_type": "markdown",
      "source": [
        "#dự phòng"
      ],
      "metadata": {
        "id": "c3vIZF8C6di4"
      }
    },
    {
      "cell_type": "code",
      "execution_count": null,
      "metadata": {
        "cellView": "form",
        "id": "F0-GijBmGGfR"
      },
      "outputs": [],
      "source": [
        "#@title\n",
        "import re\n",
        "from IPython.display import clear_output \n",
        "import requests\n",
        "from threading import Thread\n",
        "import json\n",
        "from datetime import datetime\n",
        "from pytz import timezone\n",
        "import time\n",
        "import IPython\n",
        "import urllib3\n",
        "urllib3.disable_warnings(urllib3.exceptions.InsecureRequestWarning)\n",
        "tz = timezone('Asia/Bangkok')\n",
        "s = requests.get(\"https://script.google.com/macros/s/AKfycbwihZV5psAgXthDTlr4qZQAQduO1Q-q1TvrCJlY0R0TdumHPoSm0HOksCQftp181EM/exec\").json()[280:]\n",
        "#driver = webdriver.Chrome('chromedriver',chrome_options=chrome_options)\n",
        "xu = []\n",
        "regex = r\"(?i)\\b((?:https?://|www\\d{0,3}[.]|[a-z0-9.\\-]+[.][a-z]{2,4}/)(?:[^\\s()<>]+|\\(([^\\s()<>]+|(\\([^\\s()<>]+\\)))*\\))+(?:\\(([^\\s()<>]+|(\\([^\\s()<>]+\\)))*\\)|[^\\s`!()\\[\\]{};:'\\\".,<>?«»“”‘’]))\"\n",
        "last_id = re.findall(regex, str(requests.get(\"https://shopee.vn/api/v4/microsite/get_page_configuration?url=thuthachshopee&platform=pc&version=2022.06.v3\").json()))[0][0][-16:]\n",
        "print(last_id)\n",
        "def xuu(tk):\n",
        "  xu.append(int(check_xu(tk)))\n",
        "def check_xu(token):\n",
        "  session = requests.Session()\n",
        "  session.cookies.set(\"shopee_token\", token, domain=\".shopee.vn\")\n",
        "  return session.get(\"https://shopee.vn/api/v4/coin/get_user_coins_summary\", verify=False).json()[\"coins\"][\"available_amount\"]\n",
        "\n",
        "def fist(shopee_token,id):\n",
        "  session = requests.Session()\n",
        "  session.cookies.set(\"shopee_token\", shopee_token, domain=\".shopee.vn\")\n",
        "  session.get(\"https://shopee.vn/api/v4/account/basic/get_account_info\", verify=False).json()[\"data\"]\n",
        "  session.post(f\"https://play.shopee.vn/api/buyer-mission/v1/quests/{id}\", headers={'x-tenant': 'vn', 'Content-Type': 'application/x-www-form-urlencoded'}, data=\"{}\")\n",
        "  for i in li:\n",
        "    session.post(\"https://shopee.vn/api/v4/shop/follow\", data='{\"shopid\":'+str(i)+'}').json()\n",
        "  session.post(f\"https://play.shopee.vn/api/buyer-mission/v1/quests/{id}\", headers={'x-tenant': 'vn', 'Content-Type': 'application/x-www-form-urlencoded'}, data=\"{}\")\n",
        "  for j in range(len(li)):\n",
        "    print(session.post(f\"https://play.shopee.vn/api/buyer-mission/v1/quests/{id}/tasks/{j+1}/claim\", headers={'x-tenant': 'vn', 'Content-Type': 'text/plain;charset=UTF-8'}, data='{\"meta_dfp\":\"aRKYKKJ7uGYFbhN7jCLu5Q==|flg+heIEBWdUcqB3H9axbPslit5JVa3taVzvED1Zuu7V3s2QqArc0L6YiGQ8pvX4Xra6niaCkJsZ/Ukr40xbs+I=|EyFH5bITOuaU1KM8|05|2\"}').json())\n",
        "  for i in li:\n",
        "    session.post(\"https://shopee.vn/api/v4/shop/unfollow\", data='{\"shopid\":'+str(i)+'}').json()\n",
        "\n",
        "try:\n",
        "  id = re.findall(regex, str(requests.get(\"https://shopee.vn/api/v4/microsite/get_page_configuration?url=thuthachshopee&platform=pc&version=2022.06.v3\").json()))[0][0][-16:]\n",
        "  if any(not c.isalnum() for c in id):\n",
        "    id = last_id\n",
        "except:\n",
        "  id = last_id\n",
        "\n",
        "print(\"start\")\n",
        "time.sleep(1)\n",
        "# id =re.findall(regex, str(requests.get(\"https://shopee.vn/api/v4/microsite/get_page_configuration?url=thuthachshopee&platform=pc&version=2022.06.v3\").json()))[0][0][-16:]\n",
        "print(id)\n",
        "#id =get_id(\"https://shopee.vn/m/99#anchorId-1661766691782\")\n",
        "url = f\"https://play.shopee.vn/api/buyer-mission/v1/quests/{id}\"\n",
        "a = requests.post(url, headers={'x-tenant': 'vn', 'Content-Type': 'application/x-www-form-urlencoded'}, data=\"{}\").json()[\"data\"][\"task_users\"]\n",
        "li = []\n",
        "for i in a:\n",
        "  li.append(json.loads(i[\"task_detail\"][\"config\"])[\"shop_id\"].replace('[', '').replace(']', ''))\n",
        "\n",
        "#start\n",
        "#fist(\"3M5UMNsemFnhY1lvsuInzhTjJMyxynU6qOxG8CqeisBtZe97tDUTS3w1pb6xpokH\",id)\n",
        "for i in s:\n",
        "  Thread(target=fist, args=(i[\"token\"],id,)).start()\n",
        "while True:\n",
        "  pass"
      ]
    }
  ],
  "metadata": {
    "colab": {
      "collapsed_sections": [
        "c3vIZF8C6di4"
      ],
      "provenance": [],
      "include_colab_link": true
    },
    "kernelspec": {
      "display_name": "Python 3",
      "name": "python3"
    },
    "language_info": {
      "name": "python"
    }
  },
  "nbformat": 4,
  "nbformat_minor": 0
}